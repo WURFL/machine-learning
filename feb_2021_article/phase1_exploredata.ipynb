{
 "cells": [
  {
   "cell_type": "markdown",
   "metadata": {},
   "source": [
    "# PART 1: Let's Explore our Data"
   ]
  },
  {
   "cell_type": "markdown",
   "metadata": {},
   "source": [
    "Our data set contains one milion HTTP requests and an extra bit of information that tells us if that user clicked on a banner ad. Let's take a quick look."
   ]
  },
  {
   "cell_type": "code",
   "execution_count": 1,
   "metadata": {},
   "outputs": [
    {
     "name": "stdout",
     "output_type": "stream",
     "text": [
      "{\r\n",
      "  \"Accept\": \"*/*\",\r\n",
      "  \"Accept-Encoding\": \"gzip, deflate\",\r\n",
      "  \"User-Agent\": \"Mozilla/5.0 (Linux; Android 9; HTC_U-3u Build/PQ2A.190205.003; wv) AppleWebKit/537.36 (KHTML, like Gecko) Version/4.0 Chrome/86.0.4240.99 Mobile Safari/537.36 JsSdk/2 TopBuzz/12.7.0 NetType/4G\",\r\n",
      "  \"Platform-User-Click\": \"0\"\r\n",
      "}\r\n",
      "{\r\n",
      "  \"Accept\": \"*/*\",\r\n",
      "  \"Accept-Encoding\": \"gzip, deflate\",\r\n",
      "  \"User-Agent\": \"Mozilla/5.0 (Windows NT 10.0; Win64; x64) AppleWebKit/537.36 (KHTML, like Gecko) Chrome/86.0.4240.75 Safari/537.36\",\r\n",
      "  \"Platform-User-Click\": \"0\"\r\n",
      "}\r\n",
      "\r\n",
      "gzip: stdout: Broken pipe\r\n"
     ]
    }
   ],
   "source": [
    "!zcat data.json.gz | head -12"
   ]
  },
  {
   "cell_type": "markdown",
   "metadata": {},
   "source": [
    "Let's read its content into a Pandas DataFrame."
   ]
  },
  {
   "cell_type": "code",
   "execution_count": 2,
   "metadata": {},
   "outputs": [],
   "source": [
    "import json\n",
    "import numpy as np\n",
    "import pandas as pd\n",
    "import gzip\n",
    "\n",
    "final_json_list = []\n",
    "\n",
    "with gzip.open('data.json.gz', 'r') as infile:\n",
    "    \n",
    "    # Variable for building our JSON block\n",
    "    json_block = []\n",
    "\n",
    "    for line in infile:\n",
    "        \n",
    "        myline = line.decode(\"utf-8\")\n",
    "        # Add the line to our JSON block\n",
    "        json_block.append(myline)\n",
    "\n",
    "        # Check whether we closed our JSON block\n",
    "        if myline.startswith('}'):\n",
    "\n",
    "            # Do something with the JSON dictionary\n",
    "            json_dict = json.loads(''.join(json_block))\n",
    "            final_json_list.append(json_dict)\n",
    "\n",
    "            # Start a new block\n",
    "            json_block = []\n"
   ]
  },
  {
   "cell_type": "code",
   "execution_count": 3,
   "metadata": {},
   "outputs": [],
   "source": [
    "data = pd.DataFrame(final_json_list)"
   ]
  },
  {
   "cell_type": "code",
   "execution_count": 4,
   "metadata": {},
   "outputs": [
    {
     "data": {
      "text/html": [
       "<div>\n",
       "<style scoped>\n",
       "    .dataframe tbody tr th:only-of-type {\n",
       "        vertical-align: middle;\n",
       "    }\n",
       "\n",
       "    .dataframe tbody tr th {\n",
       "        vertical-align: top;\n",
       "    }\n",
       "\n",
       "    .dataframe thead th {\n",
       "        text-align: right;\n",
       "    }\n",
       "</style>\n",
       "<table border=\"1\" class=\"dataframe\">\n",
       "  <thead>\n",
       "    <tr style=\"text-align: right;\">\n",
       "      <th></th>\n",
       "      <th>Accept</th>\n",
       "      <th>Accept-Encoding</th>\n",
       "      <th>User-Agent</th>\n",
       "      <th>Platform-User-Click</th>\n",
       "      <th>X-Ucbrowser-Ua</th>\n",
       "      <th>X-Wap-Profile</th>\n",
       "      <th>Dpr</th>\n",
       "      <th>Viewport-Width</th>\n",
       "      <th>Device-Stock-Ua</th>\n",
       "      <th>X-Operamini-Features</th>\n",
       "      <th>X-Operamini-Phone</th>\n",
       "      <th>X-Operamini-Phone-Ua</th>\n",
       "    </tr>\n",
       "  </thead>\n",
       "  <tbody>\n",
       "    <tr>\n",
       "      <th>0</th>\n",
       "      <td>*/*</td>\n",
       "      <td>gzip, deflate</td>\n",
       "      <td>Mozilla/5.0 (Linux; Android 9; HTC_U-3u Build/...</td>\n",
       "      <td>0</td>\n",
       "      <td>NaN</td>\n",
       "      <td>NaN</td>\n",
       "      <td>NaN</td>\n",
       "      <td>NaN</td>\n",
       "      <td>NaN</td>\n",
       "      <td>NaN</td>\n",
       "      <td>NaN</td>\n",
       "      <td>NaN</td>\n",
       "    </tr>\n",
       "    <tr>\n",
       "      <th>1</th>\n",
       "      <td>*/*</td>\n",
       "      <td>gzip, deflate</td>\n",
       "      <td>Mozilla/5.0 (Windows NT 10.0; Win64; x64) Appl...</td>\n",
       "      <td>0</td>\n",
       "      <td>NaN</td>\n",
       "      <td>NaN</td>\n",
       "      <td>NaN</td>\n",
       "      <td>NaN</td>\n",
       "      <td>NaN</td>\n",
       "      <td>NaN</td>\n",
       "      <td>NaN</td>\n",
       "      <td>NaN</td>\n",
       "    </tr>\n",
       "  </tbody>\n",
       "</table>\n",
       "</div>"
      ],
      "text/plain": [
       "  Accept Accept-Encoding                                         User-Agent  \\\n",
       "0    */*   gzip, deflate  Mozilla/5.0 (Linux; Android 9; HTC_U-3u Build/...   \n",
       "1    */*   gzip, deflate  Mozilla/5.0 (Windows NT 10.0; Win64; x64) Appl...   \n",
       "\n",
       "  Platform-User-Click X-Ucbrowser-Ua X-Wap-Profile  Dpr Viewport-Width  \\\n",
       "0                   0            NaN           NaN  NaN            NaN   \n",
       "1                   0            NaN           NaN  NaN            NaN   \n",
       "\n",
       "  Device-Stock-Ua X-Operamini-Features X-Operamini-Phone X-Operamini-Phone-Ua  \n",
       "0             NaN                  NaN               NaN                  NaN  \n",
       "1             NaN                  NaN               NaN                  NaN  "
      ]
     },
     "execution_count": 4,
     "metadata": {},
     "output_type": "execute_result"
    }
   ],
   "source": [
    "data.head(2)"
   ]
  },
  {
   "cell_type": "code",
   "execution_count": 5,
   "metadata": {},
   "outputs": [],
   "source": [
    "# Spring cleaning to reduce the memory footprint as we don't need this object anymore\n",
    "final_json_list=None"
   ]
  },
  {
   "cell_type": "code",
   "execution_count": 6,
   "metadata": {},
   "outputs": [
    {
     "data": {
      "text/plain": [
       "Index(['Accept', 'Accept-Encoding', 'User-Agent', 'Platform-User-Click',\n",
       "       'X-Ucbrowser-Ua', 'X-Wap-Profile', 'Dpr', 'Viewport-Width',\n",
       "       'Device-Stock-Ua', 'X-Operamini-Features', 'X-Operamini-Phone',\n",
       "       'X-Operamini-Phone-Ua'],\n",
       "      dtype='object')"
      ]
     },
     "execution_count": 6,
     "metadata": {},
     "output_type": "execute_result"
    }
   ],
   "source": [
    "# List of columns\n",
    "\n",
    "data.columns"
   ]
  },
  {
   "cell_type": "markdown",
   "metadata": {},
   "source": [
    "## Looking at overall description of the dataset"
   ]
  },
  {
   "cell_type": "code",
   "execution_count": 7,
   "metadata": {},
   "outputs": [
    {
     "data": {
      "text/html": [
       "<div>\n",
       "<style scoped>\n",
       "    .dataframe tbody tr th:only-of-type {\n",
       "        vertical-align: middle;\n",
       "    }\n",
       "\n",
       "    .dataframe tbody tr th {\n",
       "        vertical-align: top;\n",
       "    }\n",
       "\n",
       "    .dataframe thead th {\n",
       "        text-align: right;\n",
       "    }\n",
       "</style>\n",
       "<table border=\"1\" class=\"dataframe\">\n",
       "  <thead>\n",
       "    <tr style=\"text-align: right;\">\n",
       "      <th></th>\n",
       "      <th>Accept</th>\n",
       "      <th>Accept-Encoding</th>\n",
       "      <th>User-Agent</th>\n",
       "      <th>Platform-User-Click</th>\n",
       "      <th>X-Ucbrowser-Ua</th>\n",
       "      <th>X-Wap-Profile</th>\n",
       "      <th>Dpr</th>\n",
       "      <th>Viewport-Width</th>\n",
       "      <th>Device-Stock-Ua</th>\n",
       "      <th>X-Operamini-Features</th>\n",
       "      <th>X-Operamini-Phone</th>\n",
       "      <th>X-Operamini-Phone-Ua</th>\n",
       "    </tr>\n",
       "  </thead>\n",
       "  <tbody>\n",
       "    <tr>\n",
       "      <th>count</th>\n",
       "      <td>991059</td>\n",
       "      <td>984846</td>\n",
       "      <td>999962</td>\n",
       "      <td>999962</td>\n",
       "      <td>13381</td>\n",
       "      <td>2066</td>\n",
       "      <td>6166</td>\n",
       "      <td>6166</td>\n",
       "      <td>12264</td>\n",
       "      <td>12279</td>\n",
       "      <td>12279</td>\n",
       "      <td>12279</td>\n",
       "    </tr>\n",
       "    <tr>\n",
       "      <th>unique</th>\n",
       "      <td>158</td>\n",
       "      <td>42</td>\n",
       "      <td>91003</td>\n",
       "      <td>2</td>\n",
       "      <td>1788</td>\n",
       "      <td>200</td>\n",
       "      <td>47</td>\n",
       "      <td>79</td>\n",
       "      <td>1234</td>\n",
       "      <td>12</td>\n",
       "      <td>14</td>\n",
       "      <td>1243</td>\n",
       "    </tr>\n",
       "    <tr>\n",
       "      <th>top</th>\n",
       "      <td>*/*</td>\n",
       "      <td>gzip, deflate, br</td>\n",
       "      <td>Mozilla/5.0 (Windows NT 10.0; Win64; x64) Appl...</td>\n",
       "      <td>0</td>\n",
       "      <td>dv(CPH1803);pr(UCBrowser/12.12.9.1226);ov(Andr...</td>\n",
       "      <td>http://wap.samsungmobile.com/uaprof/SM-G532G.xml</td>\n",
       "      <td>3</td>\n",
       "      <td>360</td>\n",
       "      <td>Mozilla/5.0 (Linux; Android 9; Redmi Note 8 Bu...</td>\n",
       "      <td>advanced, camera, download, file_system, foldi...</td>\n",
       "      <td>Android #</td>\n",
       "      <td>Mozilla/5.0 (Linux; Android 9; Redmi Note 8 Bu...</td>\n",
       "    </tr>\n",
       "    <tr>\n",
       "      <th>freq</th>\n",
       "      <td>949373</td>\n",
       "      <td>589686</td>\n",
       "      <td>115685</td>\n",
       "      <td>987951</td>\n",
       "      <td>129</td>\n",
       "      <td>401</td>\n",
       "      <td>1729</td>\n",
       "      <td>3345</td>\n",
       "      <td>89</td>\n",
       "      <td>11345</td>\n",
       "      <td>11689</td>\n",
       "      <td>89</td>\n",
       "    </tr>\n",
       "  </tbody>\n",
       "</table>\n",
       "</div>"
      ],
      "text/plain": [
       "        Accept    Accept-Encoding  \\\n",
       "count   991059             984846   \n",
       "unique     158                 42   \n",
       "top        */*  gzip, deflate, br   \n",
       "freq    949373             589686   \n",
       "\n",
       "                                               User-Agent Platform-User-Click  \\\n",
       "count                                              999962              999962   \n",
       "unique                                              91003                   2   \n",
       "top     Mozilla/5.0 (Windows NT 10.0; Win64; x64) Appl...                   0   \n",
       "freq                                               115685              987951   \n",
       "\n",
       "                                           X-Ucbrowser-Ua  \\\n",
       "count                                               13381   \n",
       "unique                                               1788   \n",
       "top     dv(CPH1803);pr(UCBrowser/12.12.9.1226);ov(Andr...   \n",
       "freq                                                  129   \n",
       "\n",
       "                                           X-Wap-Profile   Dpr Viewport-Width  \\\n",
       "count                                               2066  6166           6166   \n",
       "unique                                               200    47             79   \n",
       "top     http://wap.samsungmobile.com/uaprof/SM-G532G.xml     3            360   \n",
       "freq                                                 401  1729           3345   \n",
       "\n",
       "                                          Device-Stock-Ua  \\\n",
       "count                                               12264   \n",
       "unique                                               1234   \n",
       "top     Mozilla/5.0 (Linux; Android 9; Redmi Note 8 Bu...   \n",
       "freq                                                   89   \n",
       "\n",
       "                                     X-Operamini-Features X-Operamini-Phone  \\\n",
       "count                                               12279             12279   \n",
       "unique                                                 12                14   \n",
       "top     advanced, camera, download, file_system, foldi...         Android #   \n",
       "freq                                                11345             11689   \n",
       "\n",
       "                                     X-Operamini-Phone-Ua  \n",
       "count                                               12279  \n",
       "unique                                               1243  \n",
       "top     Mozilla/5.0 (Linux; Android 9; Redmi Note 8 Bu...  \n",
       "freq                                                   89  "
      ]
     },
     "execution_count": 7,
     "metadata": {},
     "output_type": "execute_result"
    }
   ],
   "source": [
    "data.describe()"
   ]
  },
  {
   "cell_type": "code",
   "execution_count": 8,
   "metadata": {},
   "outputs": [
    {
     "name": "stdout",
     "output_type": "stream",
     "text": [
      "<class 'pandas.core.frame.DataFrame'>\n",
      "RangeIndex: 999962 entries, 0 to 999961\n",
      "Data columns (total 12 columns):\n",
      " #   Column                Non-Null Count   Dtype \n",
      "---  ------                --------------   ----- \n",
      " 0   Accept                991059 non-null  object\n",
      " 1   Accept-Encoding       984846 non-null  object\n",
      " 2   User-Agent            999962 non-null  object\n",
      " 3   Platform-User-Click   999962 non-null  object\n",
      " 4   X-Ucbrowser-Ua        13381 non-null   object\n",
      " 5   X-Wap-Profile         2066 non-null    object\n",
      " 6   Dpr                   6166 non-null    object\n",
      " 7   Viewport-Width        6166 non-null    object\n",
      " 8   Device-Stock-Ua       12264 non-null   object\n",
      " 9   X-Operamini-Features  12279 non-null   object\n",
      " 10  X-Operamini-Phone     12279 non-null   object\n",
      " 11  X-Operamini-Phone-Ua  12279 non-null   object\n",
      "dtypes: object(12)\n",
      "memory usage: 91.5+ MB\n"
     ]
    }
   ],
   "source": [
    "data.info()"
   ]
  },
  {
   "cell_type": "markdown",
   "metadata": {},
   "source": [
    "As we can see above that columns X-Ucbrowser-Ua, X-Wap-Profile, Dpr, Viewport-Width, Device-Stock-Ua, X-Operamini-Features, X-Operamini-Phone, X-Operamini-Phone-Ua have null in majority of values so not of much use"
   ]
  },
  {
   "cell_type": "markdown",
   "metadata": {},
   "source": [
    "##### Let study the columns like Accept and Accept-Encoding "
   ]
  },
  {
   "cell_type": "code",
   "execution_count": 9,
   "metadata": {},
   "outputs": [
    {
     "data": {
      "text/plain": [
       "array(['*/*',\n",
       "       '*/*, dn/29071867172-d0d5a7bd,text/vnd.wap.wml;q=0.6,ss/1075x2114,UC/139',\n",
       "       'text/html, application/xml;q=0.9, application/xhtml+xml, image/png, image/webp, image/jpeg, image/gif, image/x-xbitmap, */*;q=0.1',\n",
       "       'text/html,application/xhtml+xml,application/xml;q=0.9,image/webp,image/apng,*/*;q=0.8,application/signed-exchange;v=b3',\n",
       "       'text/html,application/xhtml+xml,application/xml;q=0.9,image/webp,image/apng,*/*;q=0.8',\n",
       "       'application/javascript, */*;q=0.8', nan, '*/*,image/webp',\n",
       "       'application/json, text/plain, */*',\n",
       "       'application/signed-exchange;v=b3;q=0.9,*/*;q=0.8'], dtype=object)"
      ]
     },
     "execution_count": 9,
     "metadata": {},
     "output_type": "execute_result"
    }
   ],
   "source": [
    "data['Accept'].unique()[0:10]"
   ]
  },
  {
   "cell_type": "code",
   "execution_count": 10,
   "metadata": {},
   "outputs": [
    {
     "data": {
      "text/plain": [
       "158"
      ]
     },
     "execution_count": 10,
     "metadata": {},
     "output_type": "execute_result"
    }
   ],
   "source": [
    "data['Accept'].nunique()"
   ]
  },
  {
   "cell_type": "markdown",
   "metadata": {},
   "source": [
    "Looking at the above column values we can see that these are of not much value as variance is negligible"
   ]
  },
  {
   "cell_type": "code",
   "execution_count": 11,
   "metadata": {},
   "outputs": [
    {
     "data": {
      "text/plain": [
       "array(['gzip, deflate', 'gzip,deflate', 'gzip, deflate, br',\n",
       "       'gzip,deflate,sdch', 'br, gzip, deflate',\n",
       "       'gzip, deflate, sdch, br', nan, 'gzip,deflate,br',\n",
       "       'gzip, deflate, sdch', 'gzip, *;q=0.5', 'gzip', 'identity',\n",
       "       'gzip, deflate, peerdist', 'gzip, deflate, lzma',\n",
       "       'gzip, deflate, br, peerdist', 'GZIP', 'deflate, gzip', 'gzip, br',\n",
       "       'gzip,deflate,identity', 'gzip, deflate, lzma, sdch',\n",
       "       'gzip, deflate,', 'gzip, br, peerdist', 'none', 'gzip, peerdist',\n",
       "       '', 'deflate, gzip, x-gzip, identity, *;q=0',\n",
       "       'identity,gzip,deflate', 'gzip, deflate, lzma, sdch, br',\n",
       "       'gzip, deflate, identity', 'gzi_, deflat_', 'deflate',\n",
       "       'gzip, deflate, compress', 'gzip, identity',\n",
       "       'gzip, UTF-8, deflate', 'gzip, deflate, sdch,',\n",
       "       'gzip, deflate, br, deflate', 'br', 'gzip,deflate,peerdist',\n",
       "       'gzip;q=1.0, x-gzip;q=0.9, x-bzip2;q=0.9, deflate;q=0.8, identity;q=0.5, base64;q=0.1, quoted-printable;q=0.1, compress;q=0, *;q=0',\n",
       "       'gzip, deflate, br, identity', 'gzip,deflate,zlib',\n",
       "       'gzip,deflate,lzma,sdch', 'gzip, deflate, x-gzip, identity; q=0.9'],\n",
       "      dtype=object)"
      ]
     },
     "execution_count": 11,
     "metadata": {},
     "output_type": "execute_result"
    }
   ],
   "source": [
    "data['Accept-Encoding'].unique()"
   ]
  },
  {
   "cell_type": "markdown",
   "metadata": {},
   "source": [
    "Looking at the above column values this would also not be much of value to us while building the model"
   ]
  },
  {
   "cell_type": "code",
   "execution_count": 12,
   "metadata": {},
   "outputs": [
    {
     "data": {
      "text/plain": [
       "array(['Mozilla/5.0 (Linux; Android 9; HTC_U-3u Build/PQ2A.190205.003; wv) AppleWebKit/537.36 (KHTML, like Gecko) Version/4.0 Chrome/86.0.4240.99 Mobile Safari/537.36 JsSdk/2 TopBuzz/12.7.0 NetType/4G',\n",
       "       'Mozilla/5.0 (Windows NT 10.0; Win64; x64) AppleWebKit/537.36 (KHTML, like Gecko) Chrome/86.0.4240.75 Safari/537.36',\n",
       "       'UCWEB/2.0 (MIDP-2.0; U; Adr 9; en-US; Redmi_Note_7) U2/1.0.0 UCBrowser/10.7.9.856 U2/1.0.0 Mobile',\n",
       "       ...,\n",
       "       'Mozilla/5.0 (Linux; Android 9; BND-AL10 Build/HONORBND-AL10; rv) AppleWebKit/537.36 (KHTML, like Gecko) Version/4.0 Rocket/2.5.1(20460) Chrome/84.0.4147.89 Mobile Safari/537.36',\n",
       "       'Mozilla/5.0 (iPhone; CPU iPhone OS 14_0 like Mac OS X) AppleWebKit/605.1.15 (KHTML, like Gecko) Mobile/15E148 [FBAN/FBIOS;FBAV/292.0.0.55.118;FBBV/250827541;FBDV/iPhone8,1;FBMD/iPhone;FBSN/iOS;FBSV/14.0;FBSS/2;FBID/phone;FBLC/zh_TW;FBOP/5;FBRV/0]',\n",
       "       'Mozilla/5.0 (Linux; Android 8.1.0; 8082 Build/O11019) AppleWebKit/537.36 (KHTML, like Gecko) Chrome/70.0.3538.110 Safari/537.36'],\n",
       "      dtype=object)"
      ]
     },
     "execution_count": 12,
     "metadata": {},
     "output_type": "execute_result"
    }
   ],
   "source": [
    "data['User-Agent'].unique()"
   ]
  },
  {
   "cell_type": "code",
   "execution_count": 13,
   "metadata": {},
   "outputs": [
    {
     "data": {
      "text/plain": [
       "91003"
      ]
     },
     "execution_count": 13,
     "metadata": {},
     "output_type": "execute_result"
    }
   ],
   "source": [
    "data['User-Agent'].nunique()"
   ]
  },
  {
   "cell_type": "markdown",
   "metadata": {},
   "source": [
    "### User agent column has lot of valuable information but it really requires almost infinite effort to extract some structured information out of this but for sure this contains lot of valuable information like device make, OS"
   ]
  },
  {
   "cell_type": "markdown",
   "metadata": {},
   "source": [
    "Lets study the target variable in the dataset and as we can see it is highly imbalanced dataset"
   ]
  },
  {
   "cell_type": "code",
   "execution_count": 14,
   "metadata": {},
   "outputs": [
    {
     "data": {
      "text/plain": [
       "0    987951\n",
       "1     12011\n",
       "Name: Platform-User-Click, dtype: int64"
      ]
     },
     "execution_count": 14,
     "metadata": {},
     "output_type": "execute_result"
    }
   ],
   "source": [
    "data['Platform-User-Click'].value_counts()"
   ]
  },
  {
   "cell_type": "code",
   "execution_count": 15,
   "metadata": {},
   "outputs": [],
   "source": [
    "#Lets install seaborn and matplotlib library\n",
    "\n",
    "# !pip install matplotlib\n",
    "# !pip install seaborn==0.11"
   ]
  },
  {
   "cell_type": "code",
   "execution_count": 16,
   "metadata": {},
   "outputs": [
    {
     "data": {
      "image/png": "[encoded data removed]",
      "text/plain": [
       "<Figure size 432x288 with 1 Axes>"
      ]
     },
     "metadata": {},
     "output_type": "display_data"
    }
   ],
   "source": [
    "import seaborn as sns\n",
    "sns.set(style=\"ticks\")\n",
    "ax = sns.countplot(x=\"Platform-User-Click\", data=data)"
   ]
  },
  {
   "cell_type": "code",
   "execution_count": 17,
   "metadata": {},
   "outputs": [
    {
     "data": {
      "text/html": [
       "<div>\n",
       "<style scoped>\n",
       "    .dataframe tbody tr th:only-of-type {\n",
       "        vertical-align: middle;\n",
       "    }\n",
       "\n",
       "    .dataframe tbody tr th {\n",
       "        vertical-align: top;\n",
       "    }\n",
       "\n",
       "    .dataframe thead th {\n",
       "        text-align: right;\n",
       "    }\n",
       "</style>\n",
       "<table border=\"1\" class=\"dataframe\">\n",
       "  <thead>\n",
       "    <tr style=\"text-align: right;\">\n",
       "      <th></th>\n",
       "      <th>Accept</th>\n",
       "      <th>Accept-Encoding</th>\n",
       "      <th>User-Agent</th>\n",
       "      <th>Platform-User-Click</th>\n",
       "      <th>X-Ucbrowser-Ua</th>\n",
       "      <th>X-Wap-Profile</th>\n",
       "      <th>Dpr</th>\n",
       "      <th>Viewport-Width</th>\n",
       "      <th>Device-Stock-Ua</th>\n",
       "      <th>X-Operamini-Features</th>\n",
       "      <th>X-Operamini-Phone</th>\n",
       "      <th>X-Operamini-Phone-Ua</th>\n",
       "    </tr>\n",
       "  </thead>\n",
       "  <tbody>\n",
       "    <tr>\n",
       "      <th>0</th>\n",
       "      <td>*/*</td>\n",
       "      <td>gzip, deflate</td>\n",
       "      <td>Mozilla/5.0 (Linux; Android 9; HTC_U-3u Build/...</td>\n",
       "      <td>0</td>\n",
       "      <td>NaN</td>\n",
       "      <td>NaN</td>\n",
       "      <td>NaN</td>\n",
       "      <td>NaN</td>\n",
       "      <td>NaN</td>\n",
       "      <td>NaN</td>\n",
       "      <td>NaN</td>\n",
       "      <td>NaN</td>\n",
       "    </tr>\n",
       "    <tr>\n",
       "      <th>1</th>\n",
       "      <td>*/*</td>\n",
       "      <td>gzip, deflate</td>\n",
       "      <td>Mozilla/5.0 (Windows NT 10.0; Win64; x64) Appl...</td>\n",
       "      <td>0</td>\n",
       "      <td>NaN</td>\n",
       "      <td>NaN</td>\n",
       "      <td>NaN</td>\n",
       "      <td>NaN</td>\n",
       "      <td>NaN</td>\n",
       "      <td>NaN</td>\n",
       "      <td>NaN</td>\n",
       "      <td>NaN</td>\n",
       "    </tr>\n",
       "    <tr>\n",
       "      <th>2</th>\n",
       "      <td>*/*, dn/29071867172-d0d5a7bd,text/vnd.wap.wml;...</td>\n",
       "      <td>gzip,deflate</td>\n",
       "      <td>UCWEB/2.0 (MIDP-2.0; U; Adr 9; en-US; Redmi_No...</td>\n",
       "      <td>0</td>\n",
       "      <td>pf(Linux);la(en-US);re(U2/1.0.0);dv(Redmi_Note...</td>\n",
       "      <td>NaN</td>\n",
       "      <td>NaN</td>\n",
       "      <td>NaN</td>\n",
       "      <td>NaN</td>\n",
       "      <td>NaN</td>\n",
       "      <td>NaN</td>\n",
       "      <td>NaN</td>\n",
       "    </tr>\n",
       "  </tbody>\n",
       "</table>\n",
       "</div>"
      ],
      "text/plain": [
       "                                              Accept Accept-Encoding  \\\n",
       "0                                                */*   gzip, deflate   \n",
       "1                                                */*   gzip, deflate   \n",
       "2  */*, dn/29071867172-d0d5a7bd,text/vnd.wap.wml;...    gzip,deflate   \n",
       "\n",
       "                                          User-Agent Platform-User-Click  \\\n",
       "0  Mozilla/5.0 (Linux; Android 9; HTC_U-3u Build/...                   0   \n",
       "1  Mozilla/5.0 (Windows NT 10.0; Win64; x64) Appl...                   0   \n",
       "2  UCWEB/2.0 (MIDP-2.0; U; Adr 9; en-US; Redmi_No...                   0   \n",
       "\n",
       "                                      X-Ucbrowser-Ua X-Wap-Profile  Dpr  \\\n",
       "0                                                NaN           NaN  NaN   \n",
       "1                                                NaN           NaN  NaN   \n",
       "2  pf(Linux);la(en-US);re(U2/1.0.0);dv(Redmi_Note...           NaN  NaN   \n",
       "\n",
       "  Viewport-Width Device-Stock-Ua X-Operamini-Features X-Operamini-Phone  \\\n",
       "0            NaN             NaN                  NaN               NaN   \n",
       "1            NaN             NaN                  NaN               NaN   \n",
       "2            NaN             NaN                  NaN               NaN   \n",
       "\n",
       "  X-Operamini-Phone-Ua  \n",
       "0                  NaN  \n",
       "1                  NaN  \n",
       "2                  NaN  "
      ]
     },
     "execution_count": 17,
     "metadata": {},
     "output_type": "execute_result"
    }
   ],
   "source": [
    "data.head(3)"
   ]
  },
  {
   "cell_type": "markdown",
   "metadata": {},
   "source": [
    "We would like to use a couple of standard ML/IA techniquest to verify that there is not much correlation between\n",
    "UA strings and users’ decision to click. \n",
    "\n",
    "**The User-Agent string is only the most informative column available but cardinality is very high so it will be very expensive to train the model and training data will also be very sparse**.\n",
    "\n",
    "For this reason, we are going to augment our dataset with additional device data with the WURFL API. This is what we are going to show you in the next notebook, but first let's save our dataset to a `.tsv.gz` file that we can more easily manage. We will use it as input to our next notebook."
   ]
  },
  {
   "cell_type": "code",
   "execution_count": 18,
   "metadata": {},
   "outputs": [],
   "source": [
    "data[\"User-Agent\"] = data[\"User-Agent\"].astype(str)"
   ]
  },
  {
   "cell_type": "code",
   "execution_count": 19,
   "metadata": {},
   "outputs": [],
   "source": [
    "import csv\n",
    "\n",
    "data.to_csv(\"data_in_tsv_format.tsv.gz\", sep=\"\\t\", quoting=csv.QUOTE_NONE, compression='gzip')"
   ]
  },
  {
   "cell_type": "code",
   "execution_count": 20,
   "metadata": {},
   "outputs": [
    {
     "name": "stdout",
     "output_type": "stream",
     "text": [
      "-rwxrwxrwx 1 passani passani 15479307 Jan 24 21:52 data_in_tsv_format.tsv.gz\r\n"
     ]
    }
   ],
   "source": [
    "!ls -la data_in_*"
   ]
  },
  {
   "cell_type": "code",
   "execution_count": 21,
   "metadata": {},
   "outputs": [
    {
     "name": "stdout",
     "output_type": "stream",
     "text": [
      "<class 'pandas.core.frame.DataFrame'>\n",
      "RangeIndex: 999962 entries, 0 to 999961\n",
      "Data columns (total 12 columns):\n",
      " #   Column                Non-Null Count   Dtype \n",
      "---  ------                --------------   ----- \n",
      " 0   Accept                991059 non-null  object\n",
      " 1   Accept-Encoding       984846 non-null  object\n",
      " 2   User-Agent            999962 non-null  object\n",
      " 3   Platform-User-Click   999962 non-null  object\n",
      " 4   X-Ucbrowser-Ua        13381 non-null   object\n",
      " 5   X-Wap-Profile         2066 non-null    object\n",
      " 6   Dpr                   6166 non-null    object\n",
      " 7   Viewport-Width        6166 non-null    object\n",
      " 8   Device-Stock-Ua       12264 non-null   object\n",
      " 9   X-Operamini-Features  12279 non-null   object\n",
      " 10  X-Operamini-Phone     12279 non-null   object\n",
      " 11  X-Operamini-Phone-Ua  12279 non-null   object\n",
      "dtypes: object(12)\n",
      "memory usage: 91.5+ MB\n"
     ]
    }
   ],
   "source": [
    "data.info()"
   ]
  },
  {
   "cell_type": "code",
   "execution_count": 22,
   "metadata": {},
   "outputs": [
    {
     "data": {
      "text/html": [
       "<div>\n",
       "<style scoped>\n",
       "    .dataframe tbody tr th:only-of-type {\n",
       "        vertical-align: middle;\n",
       "    }\n",
       "\n",
       "    .dataframe tbody tr th {\n",
       "        vertical-align: top;\n",
       "    }\n",
       "\n",
       "    .dataframe thead th {\n",
       "        text-align: right;\n",
       "    }\n",
       "</style>\n",
       "<table border=\"1\" class=\"dataframe\">\n",
       "  <thead>\n",
       "    <tr style=\"text-align: right;\">\n",
       "      <th></th>\n",
       "      <th>Accept</th>\n",
       "      <th>Accept-Encoding</th>\n",
       "      <th>User-Agent</th>\n",
       "      <th>Platform-User-Click</th>\n",
       "      <th>X-Ucbrowser-Ua</th>\n",
       "      <th>X-Wap-Profile</th>\n",
       "      <th>Dpr</th>\n",
       "      <th>Viewport-Width</th>\n",
       "      <th>Device-Stock-Ua</th>\n",
       "      <th>X-Operamini-Features</th>\n",
       "      <th>X-Operamini-Phone</th>\n",
       "      <th>X-Operamini-Phone-Ua</th>\n",
       "    </tr>\n",
       "  </thead>\n",
       "  <tbody>\n",
       "  </tbody>\n",
       "</table>\n",
       "</div>"
      ],
      "text/plain": [
       "Empty DataFrame\n",
       "Columns: [Accept, Accept-Encoding, User-Agent, Platform-User-Click, X-Ucbrowser-Ua, X-Wap-Profile, Dpr, Viewport-Width, Device-Stock-Ua, X-Operamini-Features, X-Operamini-Phone, X-Operamini-Phone-Ua]\n",
       "Index: []"
      ]
     },
     "execution_count": 22,
     "metadata": {},
     "output_type": "execute_result"
    }
   ],
   "source": [
    "data[(data[\"User-Agent\"].isnull())]"
   ]
  },
  {
   "cell_type": "code",
   "execution_count": 23,
   "metadata": {},
   "outputs": [
    {
     "data": {
      "text/plain": [
       "Accept                            */*\n",
       "Accept-Encoding         gzip, deflate\n",
       "User-Agent                           \n",
       "Platform-User-Click                 0\n",
       "X-Ucbrowser-Ua                    NaN\n",
       "X-Wap-Profile                     NaN\n",
       "Dpr                               NaN\n",
       "Viewport-Width                    NaN\n",
       "Device-Stock-Ua                   NaN\n",
       "X-Operamini-Features              NaN\n",
       "X-Operamini-Phone                 NaN\n",
       "X-Operamini-Phone-Ua              NaN\n",
       "Name: 24112, dtype: object"
      ]
     },
     "execution_count": 23,
     "metadata": {},
     "output_type": "execute_result"
    }
   ],
   "source": [
    "data.loc[24112]"
   ]
  },
  {
   "cell_type": "code",
   "execution_count": null,
   "metadata": {},
   "outputs": [],
   "source": []
  }
 ],
 "metadata": {
  "kernelspec": {
   "display_name": "Python 3",
   "language": "python",
   "name": "python3"
  },
  "language_info": {
   "codemirror_mode": {
    "name": "ipython",
    "version": 3
   },
   "file_extension": ".py",
   "mimetype": "text/x-python",
   "name": "python",
   "nbconvert_exporter": "python",
   "pygments_lexer": "ipython3",
   "version": "3.8.3"
  }
 },
 "nbformat": 4,
 "nbformat_minor": 1
}
