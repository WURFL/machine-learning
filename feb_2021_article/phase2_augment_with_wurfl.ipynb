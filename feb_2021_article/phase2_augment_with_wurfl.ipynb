{
 "cells": [
  {
   "cell_type": "markdown",
   "metadata": {},
   "source": [
    "# PART 2: Let's Augment our Data with WURFL Device Information"
   ]
  },
  {
   "cell_type": "markdown",
   "metadata": {},
   "source": [
    "Start with the dataset to without WURFL values.\n"
   ]
  },
  {
   "cell_type": "code",
   "execution_count": 1,
   "metadata": {},
   "outputs": [],
   "source": [
    "import json\n",
    "import numpy as np\n",
    "import pandas as pd\n",
    "import gzip\n",
    "import csv\n",
    "\n",
    "data = pd.read_csv('data_in_tsv_format.tsv.gz', compression='gzip', index_col=0, sep='\\t', quoting=csv.QUOTE_NONE)\n"
   ]
  },
  {
   "cell_type": "code",
   "execution_count": 2,
   "metadata": {},
   "outputs": [
    {
     "data": {
      "text/html": [
       "<div>\n",
       "<style scoped>\n",
       "    .dataframe tbody tr th:only-of-type {\n",
       "        vertical-align: middle;\n",
       "    }\n",
       "\n",
       "    .dataframe tbody tr th {\n",
       "        vertical-align: top;\n",
       "    }\n",
       "\n",
       "    .dataframe thead th {\n",
       "        text-align: right;\n",
       "    }\n",
       "</style>\n",
       "<table border=\"1\" class=\"dataframe\">\n",
       "  <thead>\n",
       "    <tr style=\"text-align: right;\">\n",
       "      <th></th>\n",
       "      <th>Accept</th>\n",
       "      <th>Accept-Encoding</th>\n",
       "      <th>User-Agent</th>\n",
       "      <th>Platform-User-Click</th>\n",
       "      <th>X-Ucbrowser-Ua</th>\n",
       "      <th>X-Wap-Profile</th>\n",
       "      <th>Dpr</th>\n",
       "      <th>Viewport-Width</th>\n",
       "      <th>Device-Stock-Ua</th>\n",
       "      <th>X-Operamini-Features</th>\n",
       "      <th>X-Operamini-Phone</th>\n",
       "      <th>X-Operamini-Phone-Ua</th>\n",
       "    </tr>\n",
       "  </thead>\n",
       "  <tbody>\n",
       "    <tr>\n",
       "      <th>0</th>\n",
       "      <td>*/*</td>\n",
       "      <td>gzip, deflate</td>\n",
       "      <td>Mozilla/5.0 (Linux; Android 9; HTC_U-3u Build/...</td>\n",
       "      <td>0</td>\n",
       "      <td>NaN</td>\n",
       "      <td>NaN</td>\n",
       "      <td>NaN</td>\n",
       "      <td>NaN</td>\n",
       "      <td>NaN</td>\n",
       "      <td>NaN</td>\n",
       "      <td>NaN</td>\n",
       "      <td>NaN</td>\n",
       "    </tr>\n",
       "    <tr>\n",
       "      <th>1</th>\n",
       "      <td>*/*</td>\n",
       "      <td>gzip, deflate</td>\n",
       "      <td>Mozilla/5.0 (Windows NT 10.0; Win64; x64) Appl...</td>\n",
       "      <td>0</td>\n",
       "      <td>NaN</td>\n",
       "      <td>NaN</td>\n",
       "      <td>NaN</td>\n",
       "      <td>NaN</td>\n",
       "      <td>NaN</td>\n",
       "      <td>NaN</td>\n",
       "      <td>NaN</td>\n",
       "      <td>NaN</td>\n",
       "    </tr>\n",
       "    <tr>\n",
       "      <th>2</th>\n",
       "      <td>*/*, dn/29071867172-d0d5a7bd,text/vnd.wap.wml;...</td>\n",
       "      <td>gzip,deflate</td>\n",
       "      <td>UCWEB/2.0 (MIDP-2.0; U; Adr 9; en-US; Redmi_No...</td>\n",
       "      <td>0</td>\n",
       "      <td>pf(Linux);la(en-US);re(U2/1.0.0);dv(Redmi_Note...</td>\n",
       "      <td>NaN</td>\n",
       "      <td>NaN</td>\n",
       "      <td>NaN</td>\n",
       "      <td>NaN</td>\n",
       "      <td>NaN</td>\n",
       "      <td>NaN</td>\n",
       "      <td>NaN</td>\n",
       "    </tr>\n",
       "    <tr>\n",
       "      <th>3</th>\n",
       "      <td>*/*</td>\n",
       "      <td>gzip, deflate</td>\n",
       "      <td>Mozilla/5.0 (Linux; Android 7.0; COMIO P1 Buil...</td>\n",
       "      <td>0</td>\n",
       "      <td>NaN</td>\n",
       "      <td>NaN</td>\n",
       "      <td>NaN</td>\n",
       "      <td>NaN</td>\n",
       "      <td>NaN</td>\n",
       "      <td>NaN</td>\n",
       "      <td>NaN</td>\n",
       "      <td>NaN</td>\n",
       "    </tr>\n",
       "    <tr>\n",
       "      <th>4</th>\n",
       "      <td>*/*</td>\n",
       "      <td>gzip, deflate, br</td>\n",
       "      <td>Mozilla/5.0 (Linux; Android 10; Redmi Note 8 P...</td>\n",
       "      <td>0</td>\n",
       "      <td>NaN</td>\n",
       "      <td>NaN</td>\n",
       "      <td>NaN</td>\n",
       "      <td>NaN</td>\n",
       "      <td>NaN</td>\n",
       "      <td>NaN</td>\n",
       "      <td>NaN</td>\n",
       "      <td>NaN</td>\n",
       "    </tr>\n",
       "  </tbody>\n",
       "</table>\n",
       "</div>"
      ],
      "text/plain": [
       "                                              Accept    Accept-Encoding  \\\n",
       "0                                                */*      gzip, deflate   \n",
       "1                                                */*      gzip, deflate   \n",
       "2  */*, dn/29071867172-d0d5a7bd,text/vnd.wap.wml;...       gzip,deflate   \n",
       "3                                                */*      gzip, deflate   \n",
       "4                                                */*  gzip, deflate, br   \n",
       "\n",
       "                                          User-Agent  Platform-User-Click  \\\n",
       "0  Mozilla/5.0 (Linux; Android 9; HTC_U-3u Build/...                    0   \n",
       "1  Mozilla/5.0 (Windows NT 10.0; Win64; x64) Appl...                    0   \n",
       "2  UCWEB/2.0 (MIDP-2.0; U; Adr 9; en-US; Redmi_No...                    0   \n",
       "3  Mozilla/5.0 (Linux; Android 7.0; COMIO P1 Buil...                    0   \n",
       "4  Mozilla/5.0 (Linux; Android 10; Redmi Note 8 P...                    0   \n",
       "\n",
       "                                      X-Ucbrowser-Ua X-Wap-Profile  Dpr  \\\n",
       "0                                                NaN           NaN  NaN   \n",
       "1                                                NaN           NaN  NaN   \n",
       "2  pf(Linux);la(en-US);re(U2/1.0.0);dv(Redmi_Note...           NaN  NaN   \n",
       "3                                                NaN           NaN  NaN   \n",
       "4                                                NaN           NaN  NaN   \n",
       "\n",
       "   Viewport-Width Device-Stock-Ua X-Operamini-Features X-Operamini-Phone  \\\n",
       "0             NaN             NaN                  NaN               NaN   \n",
       "1             NaN             NaN                  NaN               NaN   \n",
       "2             NaN             NaN                  NaN               NaN   \n",
       "3             NaN             NaN                  NaN               NaN   \n",
       "4             NaN             NaN                  NaN               NaN   \n",
       "\n",
       "  X-Operamini-Phone-Ua  \n",
       "0                  NaN  \n",
       "1                  NaN  \n",
       "2                  NaN  \n",
       "3                  NaN  \n",
       "4                  NaN  "
      ]
     },
     "execution_count": 2,
     "metadata": {},
     "output_type": "execute_result"
    }
   ],
   "source": [
    "data.head()"
   ]
  },
  {
   "cell_type": "code",
   "execution_count": 3,
   "metadata": {},
   "outputs": [
    {
     "name": "stdout",
     "output_type": "stream",
     "text": [
      "<class 'pandas.core.frame.DataFrame'>\n",
      "Int64Index: 999962 entries, 0 to 999961\n",
      "Data columns (total 12 columns):\n",
      " #   Column                Non-Null Count   Dtype  \n",
      "---  ------                --------------   -----  \n",
      " 0   Accept                991059 non-null  object \n",
      " 1   Accept-Encoding       984824 non-null  object \n",
      " 2   User-Agent            999960 non-null  object \n",
      " 3   Platform-User-Click   999962 non-null  int64  \n",
      " 4   X-Ucbrowser-Ua        13381 non-null   object \n",
      " 5   X-Wap-Profile         2056 non-null    object \n",
      " 6   Dpr                   6166 non-null    float64\n",
      " 7   Viewport-Width        6166 non-null    float64\n",
      " 8   Device-Stock-Ua       12264 non-null   object \n",
      " 9   X-Operamini-Features  12279 non-null   object \n",
      " 10  X-Operamini-Phone     12279 non-null   object \n",
      " 11  X-Operamini-Phone-Ua  12279 non-null   object \n",
      "dtypes: float64(2), int64(1), object(9)\n",
      "memory usage: 99.2+ MB\n"
     ]
    }
   ],
   "source": [
    "data.info()"
   ]
  },
  {
   "cell_type": "code",
   "execution_count": 4,
   "metadata": {},
   "outputs": [],
   "source": [
    "#data[\"User-Agent\"] = data[\"User-Agent\"].astype(str)"
   ]
  },
  {
   "cell_type": "code",
   "execution_count": 5,
   "metadata": {},
   "outputs": [],
   "source": [
    "#data[[\"User-Agent\"]].info()"
   ]
  },
  {
   "cell_type": "code",
   "execution_count": 6,
   "metadata": {},
   "outputs": [],
   "source": [
    "# small differences as compared to what was saved in the previous notebook.\n",
    "#data[(data[\"User-Agent\"].isnull())]"
   ]
  },
  {
   "cell_type": "code",
   "execution_count": 7,
   "metadata": {},
   "outputs": [
    {
     "data": {
      "text/plain": [
       "Index(['Accept', 'Accept-Encoding', 'User-Agent', 'Platform-User-Click',\n",
       "       'X-Ucbrowser-Ua', 'X-Wap-Profile', 'Dpr', 'Viewport-Width',\n",
       "       'Device-Stock-Ua', 'X-Operamini-Features', 'X-Operamini-Phone',\n",
       "       'X-Operamini-Phone-Ua'],\n",
       "      dtype='object')"
      ]
     },
     "execution_count": 7,
     "metadata": {},
     "output_type": "execute_result"
    }
   ],
   "source": [
    "# List of columns\n",
    "\n",
    "data.columns"
   ]
  },
  {
   "cell_type": "markdown",
   "metadata": {},
   "source": [
    "We would like to use a couple of standard ML/IA techniquest to verify that there is not much correlation between\n",
    "UA strings and users’ decision to click. \n",
    "\n",
    "**The User-Agent string is the most informative column available but cardinality is very high so it will be very expensive to train the model and training data will also be very sparse**.\n",
    "\n",
    "For this reason, we are going to augment our dataset with additional device data with the WURFL API. This is what we are going to show you in the next notebook."
   ]
  },
  {
   "cell_type": "markdown",
   "metadata": {},
   "source": [
    "**IMPORTANT NOTE:** DO NOT TRY TO INSTALL PyWURFL with: `#!pip install pywurfl` \n",
    "Please obtain PyWURFL from ScientiaMobile and install it following the instruction provided from your customer vault. \n",
    "There is a conflict with a legacy PyWURFL module (outside of ScientiaMobile's control) that, if installed by mistake, should first be uninstalled for successful install of pywurfl\n"
   ]
  },
  {
   "cell_type": "code",
   "execution_count": 8,
   "metadata": {},
   "outputs": [],
   "source": [
    "from pywurfl.wurfl import Wurfl\n",
    "# Create a WURFL Engine.\n",
    "wurfl = Wurfl('wurfl.zip')\n",
    "# let's give it a little bit of in-memory cache\n",
    "# wurfl = Wurfl( root='wurfl.zip', cache_provider=1, cache_extra_config=\"200000\" )\n",
    "\n",
    "static_capabilities = [ \"brand_name\" ,\"model_name\" , \"release_date\" , \"release_msrp\" ,\n",
    "                       \"is_smarttv\" , \"is_tablet\" ]\n",
    "virtual_capabilities = [ \"is_mobile\" , \"is_smartphone\" , \"complete_device_name\" ,\n",
    "                        \"advertised_device_os\" , \"advertised_device_os_version\" ,\"form_factor\" ,\n",
    "                        \"is_full_desktop\" ]"
   ]
  },
  {
   "cell_type": "code",
   "execution_count": 9,
   "metadata": {},
   "outputs": [
    {
     "data": {
      "text/plain": [
       "<pywurfl.wurfl.Wurfl at 0x2a4611eaf40>"
      ]
     },
     "execution_count": 9,
     "metadata": {},
     "output_type": "execute_result"
    }
   ],
   "source": [
    "wurfl"
   ]
  },
  {
   "cell_type": "code",
   "execution_count": 10,
   "metadata": {},
   "outputs": [
    {
     "data": {
      "text/plain": [
       "['brand_name',\n",
       " 'model_name',\n",
       " 'release_date',\n",
       " 'release_msrp',\n",
       " 'is_smarttv',\n",
       " 'is_tablet',\n",
       " 'is_mobile',\n",
       " 'is_smartphone',\n",
       " 'complete_device_name',\n",
       " 'advertised_device_os',\n",
       " 'advertised_device_os_version',\n",
       " 'form_factor',\n",
       " 'is_full_desktop']"
      ]
     },
     "execution_count": 10,
     "metadata": {},
     "output_type": "execute_result"
    }
   ],
   "source": [
    "http_request = {\n",
    "    #\"X-Operamini-Phone-Ua\": str(\"Mozilla/5.0 (Linux; Android 7.0; itel P41 Build/NRD90M; wv) AppleWebKit/537.36 (KHTML, like Gecko) Version/4.0 Chrome/59.0.3071.125 Mobile Safari/537.36\"),\n",
    "    \"user-agent\":\"Mozilla/5.0 (Linux; U; Android 9; fr-dz; Redmi Note 7 Build/PKQ1.180904.001) AppleWebKit/537.36 (KHTML, like Gecko) Version/4.0 Chrome/61.0.3163.128 Mobile Safari/537.36 XiaoMi/MiuiBrowser/10.6.3-g\"\n",
    "}\n",
    "\n",
    "dev = wurfl.parse_headers(http_request)\n",
    "capa_values = dev.get_capabilities(static_capabilities)\n",
    "capa_values.update(dev.get_virtual_capabilities(virtual_capabilities))\n",
    "#print(capa_values)\n",
    "dev.release()\n",
    "new_columns = list(capa_values.keys())\n",
    "new_columns"
   ]
  },
  {
   "cell_type": "code",
   "execution_count": 11,
   "metadata": {},
   "outputs": [],
   "source": [
    "#datasmall = data[0:2000]"
   ]
  },
  {
   "cell_type": "code",
   "execution_count": 12,
   "metadata": {},
   "outputs": [],
   "source": [
    "#datasmall.info()"
   ]
  },
  {
   "cell_type": "markdown",
   "metadata": {},
   "source": [
    "**Be careful before you run the next cell. One milion rows. It might take a while (ballpark: 5-20 mins)**"
   ]
  },
  {
   "cell_type": "code",
   "execution_count": 13,
   "metadata": {},
   "outputs": [],
   "source": [
    "cols = data.columns.to_list()\n",
    "cols.remove(\"User-Agent\")\n",
    "\n",
    "#def ua_to_json(accept_encoding, accept, user_agent):\n",
    "def get_wurfl_capas(row):\n",
    "    \n",
    "    if pd.isna(row['User-Agent']):\n",
    "        user_agent = \"\"\n",
    "    else:\n",
    "        user_agent = row['User-Agent']\n",
    "        \n",
    "    http_request = {\n",
    "        \"user-agent\": user_agent,\n",
    "    }\n",
    "    \n",
    "    #add all non-null headers to mock HTTP request\n",
    "    for el in cols:\n",
    "        if not pd.isna(row[el]):\n",
    "            http_request[el] = str(row[el])\n",
    "    \n",
    "    \n",
    "    dev = wurfl.parse_headers(http_request)\n",
    "    capa_values = dev.get_capabilities(static_capabilities)\n",
    "    capa_values.update(dev.get_virtual_capabilities(virtual_capabilities))\n",
    "    \n",
    "    dev.release()\n",
    "    #print(capa_values, flush=True)\n",
    "    return pd.Series(capa_values)\n",
    "\n",
    "\n",
    "# an advice is to run on sample of data     \n",
    "data[new_columns] = data.apply(get_wurfl_capas, axis=1)"
   ]
  },
  {
   "cell_type": "code",
   "execution_count": 14,
   "metadata": {},
   "outputs": [
    {
     "name": "stdout",
     "output_type": "stream",
     "text": [
      "<class 'pandas.core.frame.DataFrame'>\n",
      "Int64Index: 999962 entries, 0 to 999961\n",
      "Data columns (total 25 columns):\n",
      " #   Column                        Non-Null Count   Dtype  \n",
      "---  ------                        --------------   -----  \n",
      " 0   Accept                        991059 non-null  object \n",
      " 1   Accept-Encoding               984824 non-null  object \n",
      " 2   User-Agent                    999960 non-null  object \n",
      " 3   Platform-User-Click           999962 non-null  int64  \n",
      " 4   X-Ucbrowser-Ua                13381 non-null   object \n",
      " 5   X-Wap-Profile                 2056 non-null    object \n",
      " 6   Dpr                           6166 non-null    float64\n",
      " 7   Viewport-Width                6166 non-null    float64\n",
      " 8   Device-Stock-Ua               12264 non-null   object \n",
      " 9   X-Operamini-Features          12279 non-null   object \n",
      " 10  X-Operamini-Phone             12279 non-null   object \n",
      " 11  X-Operamini-Phone-Ua          12279 non-null   object \n",
      " 12  brand_name                    999962 non-null  object \n",
      " 13  model_name                    999962 non-null  object \n",
      " 14  release_date                  999962 non-null  object \n",
      " 15  release_msrp                  999962 non-null  object \n",
      " 16  is_smarttv                    999962 non-null  object \n",
      " 17  is_tablet                     999962 non-null  object \n",
      " 18  is_mobile                     999962 non-null  object \n",
      " 19  is_smartphone                 999962 non-null  object \n",
      " 20  complete_device_name          999962 non-null  object \n",
      " 21  advertised_device_os          999962 non-null  object \n",
      " 22  advertised_device_os_version  999962 non-null  object \n",
      " 23  form_factor                   999962 non-null  object \n",
      " 24  is_full_desktop               999962 non-null  object \n",
      "dtypes: float64(2), int64(1), object(22)\n",
      "memory usage: 198.4+ MB\n"
     ]
    }
   ],
   "source": [
    "data.info()"
   ]
  },
  {
   "cell_type": "code",
   "execution_count": 15,
   "metadata": {},
   "outputs": [],
   "source": [
    "# df_nowurfl = df_nowurfl.reset_index()\n",
    "# df_nowurfl_enriched = df_nowurfl.merge(pd.json_normalize(df_nowurfl['enriched_json']), left_index=True, right_index=True)\n",
    "# df_nowurfl_enriched.columns"
   ]
  },
  {
   "cell_type": "markdown",
   "metadata": {},
   "source": [
    "## now we will enter into the 2nd part of the problem where we have the wurfl api enriched data"
   ]
  },
  {
   "cell_type": "code",
   "execution_count": 16,
   "metadata": {
    "scrolled": true
   },
   "outputs": [],
   "source": [
    "# df_wurfl = pd.DataFrame(final_json_list)\n",
    "# df_wurfl"
   ]
  },
  {
   "cell_type": "code",
   "execution_count": 17,
   "metadata": {},
   "outputs": [
    {
     "data": {
      "text/plain": [
       "Index(['Accept', 'Accept-Encoding', 'User-Agent', 'Platform-User-Click',\n",
       "       'X-Ucbrowser-Ua', 'X-Wap-Profile', 'Dpr', 'Viewport-Width',\n",
       "       'Device-Stock-Ua', 'X-Operamini-Features', 'X-Operamini-Phone',\n",
       "       'X-Operamini-Phone-Ua', 'brand_name', 'model_name', 'release_date',\n",
       "       'release_msrp', 'is_smarttv', 'is_tablet', 'is_mobile', 'is_smartphone',\n",
       "       'complete_device_name', 'advertised_device_os',\n",
       "       'advertised_device_os_version', 'form_factor', 'is_full_desktop'],\n",
       "      dtype='object')"
      ]
     },
     "execution_count": 17,
     "metadata": {},
     "output_type": "execute_result"
    }
   ],
   "source": [
    "data.columns"
   ]
  },
  {
   "cell_type": "markdown",
   "metadata": {},
   "source": [
    "# Explain each column meaning to show metadata description"
   ]
  },
  {
   "cell_type": "code",
   "execution_count": 18,
   "metadata": {},
   "outputs": [
    {
     "data": {
      "text/plain": [
       "0    987951\n",
       "1     12011\n",
       "Name: Platform-User-Click, dtype: int64"
      ]
     },
     "execution_count": 18,
     "metadata": {},
     "output_type": "execute_result"
    }
   ],
   "source": [
    "data['Platform-User-Click'].value_counts()"
   ]
  },
  {
   "cell_type": "code",
   "execution_count": 19,
   "metadata": {},
   "outputs": [
    {
     "data": {
      "text/plain": [
       "(999962, 25)"
      ]
     },
     "execution_count": 19,
     "metadata": {},
     "output_type": "execute_result"
    }
   ],
   "source": [
    "data.shape"
   ]
  },
  {
   "cell_type": "code",
   "execution_count": 20,
   "metadata": {},
   "outputs": [
    {
     "data": {
      "text/plain": [
       "0    98.798854\n",
       "1     1.201146\n",
       "Name: Platform-User-Click, dtype: float64"
      ]
     },
     "execution_count": 20,
     "metadata": {},
     "output_type": "execute_result"
    }
   ],
   "source": [
    "data['Platform-User-Click'].value_counts(normalize=True)*100"
   ]
  },
  {
   "cell_type": "code",
   "execution_count": 21,
   "metadata": {},
   "outputs": [
    {
     "data": {
      "image/png": "[encoded data removed]",
      "text/plain": [
       "<Figure size 432x288 with 1 Axes>"
      ]
     },
     "metadata": {},
     "output_type": "display_data"
    }
   ],
   "source": [
    "import seaborn as sns\n",
    "sns.set(style=\"ticks\")\n",
    "ax = sns.countplot(x=\"Platform-User-Click\", data=data)"
   ]
  },
  {
   "cell_type": "code",
   "execution_count": 22,
   "metadata": {},
   "outputs": [],
   "source": [
    "data['release_msrp'] = data[\"release_msrp\"].astype(int)"
   ]
  },
  {
   "cell_type": "code",
   "execution_count": 23,
   "metadata": {},
   "outputs": [
    {
     "data": {
      "image/png": "[encoded data removed]",
      "text/plain": [
       "<Figure size 864x576 with 1 Axes>"
      ]
     },
     "metadata": {},
     "output_type": "display_data"
    }
   ],
   "source": [
    "#sns.histplot(data=data[(data[\"release_msrp\"] > 1) & (data[\"release_msrp\"] < 1000)], x=\"release_msrp\");\n",
    "prices = data[(data[\"release_msrp\"] > 1) & (data[\"release_msrp\"] < 1000)][\"release_msrp\"]\n",
    "plt.hist(prices, bins=20);"
   ]
  },
  {
   "cell_type": "code",
   "execution_count": 24,
   "metadata": {},
   "outputs": [
    {
     "data": {
      "text/plain": [
       "0       353993\n",
       "1150    131957\n",
       "849      12494\n",
       "240      11671\n",
       "198       8653\n",
       "         ...  \n",
       "537          1\n",
       "463          1\n",
       "814          1\n",
       "44           1\n",
       "902          1\n",
       "Name: release_msrp, Length: 661, dtype: int64"
      ]
     },
     "execution_count": 24,
     "metadata": {},
     "output_type": "execute_result"
    }
   ],
   "source": [
    "data['release_msrp'].value_counts()"
   ]
  },
  {
   "cell_type": "code",
   "execution_count": 25,
   "metadata": {},
   "outputs": [
    {
     "data": {
      "text/plain": [
       "Google         22.100940\n",
       "Apple          19.872955\n",
       "Samsung        16.444425\n",
       "Xiaomi          7.802296\n",
       "Huawei          4.374066\n",
       "                 ...    \n",
       "Brandcode       0.000100\n",
       "Gear Mobile     0.000100\n",
       "Au              0.000100\n",
       "KingSing        0.000100\n",
       "iOcean          0.000100\n",
       "Name: brand_name, Length: 368, dtype: float64"
      ]
     },
     "execution_count": 25,
     "metadata": {},
     "output_type": "execute_result"
    }
   ],
   "source": [
    "data['brand_name'].value_counts(normalize=True)*100"
   ]
  },
  {
   "cell_type": "code",
   "execution_count": 26,
   "metadata": {},
   "outputs": [
    {
     "data": {
      "image/png": "[encoded data removed]",
      "text/plain": [
       "<Figure size 576x360 with 1 Axes>"
      ]
     },
     "metadata": {},
     "output_type": "display_data"
    }
   ],
   "source": [
    "from matplotlib import pyplot as plt\n",
    "plt.figure(figsize=(8,5))\n",
    "ax = sns.barplot(x=\"brand_name\", y=\"release_msrp\", data=data,\n",
    "                 order=[\"Google\", \"Apple\",\"Samsung\",\"Xiaomi\",\"Huawei\"])"
   ]
  },
  {
   "cell_type": "code",
   "execution_count": 27,
   "metadata": {},
   "outputs": [
    {
     "data": {
      "image/png": "[encoded data removed]",
      "text/plain": [
       "<Figure size 576x360 with 1 Axes>"
      ]
     },
     "metadata": {},
     "output_type": "display_data"
    }
   ],
   "source": [
    "plt.figure(figsize=(8,5))\n",
    "ax = sns.barplot(x=\"brand_name\", y=\"release_msrp\", hue=\"Platform-User-Click\", data=data,\n",
    "                 order=[\"Google\", \"Apple\",\"Samsung\",\"Xiaomi\",\"Huawei\"])"
   ]
  },
  {
   "cell_type": "code",
   "execution_count": 28,
   "metadata": {},
   "outputs": [
    {
     "data": {
      "image/png": "[encoded data removed]",
      "text/plain": [
       "<Figure size 576x360 with 1 Axes>"
      ]
     },
     "metadata": {},
     "output_type": "display_data"
    }
   ],
   "source": [
    "plt.figure(figsize=(8,5))\n",
    "ax = sns.barplot(x=\"brand_name\", y=\"release_msrp\", hue=\"Platform-User-Click\", data=data,\n",
    "                 order=[\"Google\", \"Apple\",\"Samsung\",\"Xiaomi\",\"Huawei\"])"
   ]
  },
  {
   "cell_type": "code",
   "execution_count": 29,
   "metadata": {},
   "outputs": [
    {
     "data": {
      "text/plain": [
       "Android                                  49.430278\n",
       "Windows                                  25.628674\n",
       "iOS                                      16.582530\n",
       "macOS                                     4.527572\n",
       "Linux                                     1.339551\n",
       "                                          1.180845\n",
       "iPadOS                                    0.500219\n",
       "Mac OS X                                  0.350613\n",
       "Chrome OS                                 0.208308\n",
       "Fire OS                                   0.103804\n",
       "KaiOS                                     0.051102\n",
       "Tizen                                     0.027901\n",
       "Windows Phone                             0.019501\n",
       "PlayStation OS                            0.017501\n",
       "Ubuntu                                    0.010100\n",
       "Nintendo                                  0.009300\n",
       "Fedora                                    0.004000\n",
       "Symbian S60                               0.003000\n",
       "BlackBerry                                0.001900\n",
       "Intel Mac OS X                            0.001100\n",
       "CPU Macintosh OS 14_0_1 like Mac OS X     0.000800\n",
       "Windows 98                                0.000600\n",
       "Chromecast                                0.000400\n",
       "Symbian OS                                0.000300\n",
       "S40 OS                                    0.000100\n",
       "Name: advertised_device_os, dtype: float64"
      ]
     },
     "execution_count": 29,
     "metadata": {},
     "output_type": "execute_result"
    }
   ],
   "source": [
    "data['advertised_device_os'].value_counts(normalize=True)*100"
   ]
  },
  {
   "cell_type": "code",
   "execution_count": 30,
   "metadata": {},
   "outputs": [],
   "source": [
    "data[\"OS_and_Ver\"] = data[\"advertised_device_os\"] + \" \" + data[\"advertised_device_os_version\"]"
   ]
  },
  {
   "cell_type": "code",
   "execution_count": 31,
   "metadata": {},
   "outputs": [
    {
     "data": {
      "image/png": "[encoded data removed]",
      "text/plain": [
       "<Figure size 864x576 with 1 Axes>"
      ]
     },
     "metadata": {},
     "output_type": "display_data"
    }
   ],
   "source": [
    "sns.set(rc={'figure.figsize':(12,8)})\n",
    "ax = sns.barplot(x=\"OS_and_Ver\", y=\"release_msrp\", hue=\"Platform-User-Click\", data=data,\n",
    "                 order=[\"Android 10\",\"Android 9\",\"Android 8.1.0\", \"iOS 14.0.1\", # \"iOS 13.7\",\n",
    "                        \"Android 8.0.0\",\"Android 7.0\",\"Android 6.0.1\"]) #,\"Windows 10\",\"Windows 7\"])"
   ]
  },
  {
   "cell_type": "code",
   "execution_count": 32,
   "metadata": {},
   "outputs": [
    {
     "data": {
      "text/plain": [
       "0.8011104421968033"
      ]
     },
     "execution_count": 32,
     "metadata": {},
     "output_type": "execute_result"
    }
   ],
   "source": [
    "data['release_date'].value_counts(normalize=True).head(30).sum()"
   ]
  },
  {
   "cell_type": "code",
   "execution_count": 33,
   "metadata": {},
   "outputs": [
    {
     "data": {
      "text/plain": [
       "2019_december     0.202276\n",
       "2017_june         0.146712\n",
       "2019_september    0.040956\n",
       "2013_june         0.037958\n",
       "2020_january      0.036176\n",
       "2019_march        0.033002\n",
       "2014_december     0.026538\n",
       "2018_may          0.019991\n",
       "2018_october      0.019940\n",
       "2019_april        0.018237\n",
       "2019_may          0.016519\n",
       "2019_february     0.015292\n",
       "2019_october      0.013539\n",
       "2017_september    0.013222\n",
       "2016_november     0.011556\n",
       "2017_december     0.011471\n",
       "2018_march        0.011326\n",
       "2018_june         0.011111\n",
       "2018_september    0.010508\n",
       "2020_march        0.010407\n",
       "2018_august       0.010243\n",
       "2016_march        0.010173\n",
       "2018_july         0.010102\n",
       "2018_february     0.010051\n",
       "2019_june         0.009542\n",
       "2018_november     0.009307\n",
       "2018_april        0.009138\n",
       "2016_august       0.008787\n",
       "2017_april        0.008771\n",
       "2016_september    0.008256\n",
       "Name: release_date, dtype: float64"
      ]
     },
     "execution_count": 33,
     "metadata": {},
     "output_type": "execute_result"
    }
   ],
   "source": [
    "data['release_date'].value_counts(normalize=True).head(30)"
   ]
  },
  {
   "cell_type": "code",
   "execution_count": 34,
   "metadata": {},
   "outputs": [],
   "source": [
    "data[['year','month']] = data['release_date'].str.split(\"_\", expand=True)"
   ]
  },
  {
   "cell_type": "code",
   "execution_count": 35,
   "metadata": {},
   "outputs": [
    {
     "data": {
      "text/plain": [
       "2019    374442\n",
       "2017    218747\n",
       "2018    130989\n",
       "2020     76686\n",
       "2016     64118\n",
       "2013     42592\n",
       "2014     36745\n",
       "2015     27386\n",
       "2012     10665\n",
       "2000      6993\n",
       "2002      5441\n",
       "2011      1260\n",
       "1994      1136\n",
       "2006       949\n",
       "2003       727\n",
       "2007       548\n",
       "2009       279\n",
       "2010       130\n",
       "2001        96\n",
       "2008        31\n",
       "2005         2\n",
       "Name: year, dtype: int64"
      ]
     },
     "execution_count": 35,
     "metadata": {},
     "output_type": "execute_result"
    }
   ],
   "source": [
    "data['year'].value_counts()"
   ]
  },
  {
   "cell_type": "code",
   "execution_count": 36,
   "metadata": {},
   "outputs": [
    {
     "data": {
      "text/plain": [
       "december     248702\n",
       "june         227321\n",
       "september     83377\n",
       "march         75249\n",
       "january       72732\n",
       "october       54388\n",
       "may           52333\n",
       "april         47072\n",
       "august        37959\n",
       "february      35278\n",
       "november      34114\n",
       "july          31437\n",
       "Name: month, dtype: int64"
      ]
     },
     "execution_count": 36,
     "metadata": {},
     "output_type": "execute_result"
    }
   ],
   "source": [
    "data['month'].value_counts()"
   ]
  },
  {
   "cell_type": "code",
   "execution_count": 37,
   "metadata": {},
   "outputs": [
    {
     "data": {
      "text/html": [
       "<div>\n",
       "<style scoped>\n",
       "    .dataframe tbody tr th:only-of-type {\n",
       "        vertical-align: middle;\n",
       "    }\n",
       "\n",
       "    .dataframe tbody tr th {\n",
       "        vertical-align: top;\n",
       "    }\n",
       "\n",
       "    .dataframe thead th {\n",
       "        text-align: right;\n",
       "    }\n",
       "</style>\n",
       "<table border=\"1\" class=\"dataframe\">\n",
       "  <thead>\n",
       "    <tr style=\"text-align: right;\">\n",
       "      <th>Platform-User-Click</th>\n",
       "      <th>0</th>\n",
       "      <th>1</th>\n",
       "    </tr>\n",
       "    <tr>\n",
       "      <th>month</th>\n",
       "      <th></th>\n",
       "      <th></th>\n",
       "    </tr>\n",
       "  </thead>\n",
       "  <tbody>\n",
       "    <tr>\n",
       "      <th>march</th>\n",
       "      <td>97.670401</td>\n",
       "      <td>2.329599</td>\n",
       "    </tr>\n",
       "    <tr>\n",
       "      <th>august</th>\n",
       "      <td>98.034722</td>\n",
       "      <td>1.965278</td>\n",
       "    </tr>\n",
       "    <tr>\n",
       "      <th>september</th>\n",
       "      <td>98.276503</td>\n",
       "      <td>1.723497</td>\n",
       "    </tr>\n",
       "    <tr>\n",
       "      <th>december</th>\n",
       "      <td>98.832740</td>\n",
       "      <td>1.167260</td>\n",
       "    </tr>\n",
       "    <tr>\n",
       "      <th>april</th>\n",
       "      <td>98.865568</td>\n",
       "      <td>1.134432</td>\n",
       "    </tr>\n",
       "    <tr>\n",
       "      <th>january</th>\n",
       "      <td>98.919320</td>\n",
       "      <td>1.080680</td>\n",
       "    </tr>\n",
       "    <tr>\n",
       "      <th>may</th>\n",
       "      <td>98.985344</td>\n",
       "      <td>1.014656</td>\n",
       "    </tr>\n",
       "    <tr>\n",
       "      <th>june</th>\n",
       "      <td>99.064759</td>\n",
       "      <td>0.935241</td>\n",
       "    </tr>\n",
       "    <tr>\n",
       "      <th>october</th>\n",
       "      <td>99.141355</td>\n",
       "      <td>0.858645</td>\n",
       "    </tr>\n",
       "    <tr>\n",
       "      <th>february</th>\n",
       "      <td>99.228981</td>\n",
       "      <td>0.771019</td>\n",
       "    </tr>\n",
       "    <tr>\n",
       "      <th>july</th>\n",
       "      <td>99.271559</td>\n",
       "      <td>0.728441</td>\n",
       "    </tr>\n",
       "    <tr>\n",
       "      <th>november</th>\n",
       "      <td>99.334584</td>\n",
       "      <td>0.665416</td>\n",
       "    </tr>\n",
       "  </tbody>\n",
       "</table>\n",
       "</div>"
      ],
      "text/plain": [
       "Platform-User-Click          0         1\n",
       "month                                   \n",
       "march                97.670401  2.329599\n",
       "august               98.034722  1.965278\n",
       "september            98.276503  1.723497\n",
       "december             98.832740  1.167260\n",
       "april                98.865568  1.134432\n",
       "january              98.919320  1.080680\n",
       "may                  98.985344  1.014656\n",
       "june                 99.064759  0.935241\n",
       "october              99.141355  0.858645\n",
       "february             99.228981  0.771019\n",
       "july                 99.271559  0.728441\n",
       "november             99.334584  0.665416"
      ]
     },
     "execution_count": 37,
     "metadata": {},
     "output_type": "execute_result"
    }
   ],
   "source": [
    "pd.crosstab(data['month'], data['Platform-User-Click'], normalize='index').sort_values(by=[1], ascending=False)*100"
   ]
  },
  {
   "cell_type": "code",
   "execution_count": 38,
   "metadata": {},
   "outputs": [
    {
     "data": {
      "text/html": [
       "<div>\n",
       "<style scoped>\n",
       "    .dataframe tbody tr th:only-of-type {\n",
       "        vertical-align: middle;\n",
       "    }\n",
       "\n",
       "    .dataframe tbody tr th {\n",
       "        vertical-align: top;\n",
       "    }\n",
       "\n",
       "    .dataframe thead th {\n",
       "        text-align: right;\n",
       "    }\n",
       "</style>\n",
       "<table border=\"1\" class=\"dataframe\">\n",
       "  <thead>\n",
       "    <tr style=\"text-align: right;\">\n",
       "      <th>Platform-User-Click</th>\n",
       "      <th>0</th>\n",
       "      <th>1</th>\n",
       "    </tr>\n",
       "    <tr>\n",
       "      <th>year</th>\n",
       "      <th></th>\n",
       "      <th></th>\n",
       "    </tr>\n",
       "  </thead>\n",
       "  <tbody>\n",
       "    <tr>\n",
       "      <th>2020</th>\n",
       "      <td>97.695798</td>\n",
       "      <td>2.304202</td>\n",
       "    </tr>\n",
       "    <tr>\n",
       "      <th>2019</th>\n",
       "      <td>98.310286</td>\n",
       "      <td>1.689714</td>\n",
       "    </tr>\n",
       "    <tr>\n",
       "      <th>2002</th>\n",
       "      <td>98.713472</td>\n",
       "      <td>1.286528</td>\n",
       "    </tr>\n",
       "    <tr>\n",
       "      <th>2000</th>\n",
       "      <td>98.741599</td>\n",
       "      <td>1.258401</td>\n",
       "    </tr>\n",
       "    <tr>\n",
       "      <th>2013</th>\n",
       "      <td>98.908246</td>\n",
       "      <td>1.091754</td>\n",
       "    </tr>\n",
       "    <tr>\n",
       "      <th>2001</th>\n",
       "      <td>98.958333</td>\n",
       "      <td>1.041667</td>\n",
       "    </tr>\n",
       "    <tr>\n",
       "      <th>2014</th>\n",
       "      <td>99.020275</td>\n",
       "      <td>0.979725</td>\n",
       "    </tr>\n",
       "    <tr>\n",
       "      <th>2012</th>\n",
       "      <td>99.024848</td>\n",
       "      <td>0.975152</td>\n",
       "    </tr>\n",
       "    <tr>\n",
       "      <th>1994</th>\n",
       "      <td>99.031690</td>\n",
       "      <td>0.968310</td>\n",
       "    </tr>\n",
       "    <tr>\n",
       "      <th>2007</th>\n",
       "      <td>99.087591</td>\n",
       "      <td>0.912409</td>\n",
       "    </tr>\n",
       "    <tr>\n",
       "      <th>2017</th>\n",
       "      <td>99.224218</td>\n",
       "      <td>0.775782</td>\n",
       "    </tr>\n",
       "    <tr>\n",
       "      <th>2018</th>\n",
       "      <td>99.351854</td>\n",
       "      <td>0.648146</td>\n",
       "    </tr>\n",
       "    <tr>\n",
       "      <th>2003</th>\n",
       "      <td>99.449794</td>\n",
       "      <td>0.550206</td>\n",
       "    </tr>\n",
       "    <tr>\n",
       "      <th>2006</th>\n",
       "      <td>99.473130</td>\n",
       "      <td>0.526870</td>\n",
       "    </tr>\n",
       "    <tr>\n",
       "      <th>2011</th>\n",
       "      <td>99.523810</td>\n",
       "      <td>0.476190</td>\n",
       "    </tr>\n",
       "    <tr>\n",
       "      <th>2015</th>\n",
       "      <td>99.693274</td>\n",
       "      <td>0.306726</td>\n",
       "    </tr>\n",
       "    <tr>\n",
       "      <th>2016</th>\n",
       "      <td>99.737983</td>\n",
       "      <td>0.262017</td>\n",
       "    </tr>\n",
       "    <tr>\n",
       "      <th>2009</th>\n",
       "      <td>100.000000</td>\n",
       "      <td>0.000000</td>\n",
       "    </tr>\n",
       "    <tr>\n",
       "      <th>2008</th>\n",
       "      <td>100.000000</td>\n",
       "      <td>0.000000</td>\n",
       "    </tr>\n",
       "    <tr>\n",
       "      <th>2005</th>\n",
       "      <td>100.000000</td>\n",
       "      <td>0.000000</td>\n",
       "    </tr>\n",
       "    <tr>\n",
       "      <th>2010</th>\n",
       "      <td>100.000000</td>\n",
       "      <td>0.000000</td>\n",
       "    </tr>\n",
       "  </tbody>\n",
       "</table>\n",
       "</div>"
      ],
      "text/plain": [
       "Platform-User-Click           0         1\n",
       "year                                     \n",
       "2020                  97.695798  2.304202\n",
       "2019                  98.310286  1.689714\n",
       "2002                  98.713472  1.286528\n",
       "2000                  98.741599  1.258401\n",
       "2013                  98.908246  1.091754\n",
       "2001                  98.958333  1.041667\n",
       "2014                  99.020275  0.979725\n",
       "2012                  99.024848  0.975152\n",
       "1994                  99.031690  0.968310\n",
       "2007                  99.087591  0.912409\n",
       "2017                  99.224218  0.775782\n",
       "2018                  99.351854  0.648146\n",
       "2003                  99.449794  0.550206\n",
       "2006                  99.473130  0.526870\n",
       "2011                  99.523810  0.476190\n",
       "2015                  99.693274  0.306726\n",
       "2016                  99.737983  0.262017\n",
       "2009                 100.000000  0.000000\n",
       "2008                 100.000000  0.000000\n",
       "2005                 100.000000  0.000000\n",
       "2010                 100.000000  0.000000"
      ]
     },
     "execution_count": 38,
     "metadata": {},
     "output_type": "execute_result"
    }
   ],
   "source": [
    "pd.crosstab(data['year'], data['Platform-User-Click'], normalize='index').sort_values(by=[1], ascending=False)*100"
   ]
  },
  {
   "cell_type": "code",
   "execution_count": 39,
   "metadata": {},
   "outputs": [
    {
     "data": {
      "text/html": [
       "<div>\n",
       "<style scoped>\n",
       "    .dataframe tbody tr th:only-of-type {\n",
       "        vertical-align: middle;\n",
       "    }\n",
       "\n",
       "    .dataframe tbody tr th {\n",
       "        vertical-align: top;\n",
       "    }\n",
       "\n",
       "    .dataframe thead th {\n",
       "        text-align: right;\n",
       "    }\n",
       "</style>\n",
       "<table border=\"1\" class=\"dataframe\">\n",
       "  <thead>\n",
       "    <tr style=\"text-align: right;\">\n",
       "      <th>Platform-User-Click</th>\n",
       "      <th>0</th>\n",
       "      <th>1</th>\n",
       "    </tr>\n",
       "    <tr>\n",
       "      <th>release_date</th>\n",
       "      <th></th>\n",
       "      <th></th>\n",
       "    </tr>\n",
       "  </thead>\n",
       "  <tbody>\n",
       "    <tr>\n",
       "      <th>2019_august</th>\n",
       "      <td>93.233372</td>\n",
       "      <td>6.766628</td>\n",
       "    </tr>\n",
       "    <tr>\n",
       "      <th>2020_august</th>\n",
       "      <td>93.631948</td>\n",
       "      <td>6.368052</td>\n",
       "    </tr>\n",
       "    <tr>\n",
       "      <th>2020_march</th>\n",
       "      <td>94.465264</td>\n",
       "      <td>5.534736</td>\n",
       "    </tr>\n",
       "    <tr>\n",
       "      <th>2020_october</th>\n",
       "      <td>95.000000</td>\n",
       "      <td>5.000000</td>\n",
       "    </tr>\n",
       "    <tr>\n",
       "      <th>2011_may</th>\n",
       "      <td>96.428571</td>\n",
       "      <td>3.571429</td>\n",
       "    </tr>\n",
       "    <tr>\n",
       "      <th>...</th>\n",
       "      <td>...</td>\n",
       "      <td>...</td>\n",
       "    </tr>\n",
       "    <tr>\n",
       "      <th>2010_november</th>\n",
       "      <td>100.000000</td>\n",
       "      <td>0.000000</td>\n",
       "    </tr>\n",
       "    <tr>\n",
       "      <th>2010_october</th>\n",
       "      <td>100.000000</td>\n",
       "      <td>0.000000</td>\n",
       "    </tr>\n",
       "    <tr>\n",
       "      <th>2012_july</th>\n",
       "      <td>100.000000</td>\n",
       "      <td>0.000000</td>\n",
       "    </tr>\n",
       "    <tr>\n",
       "      <th>2012_january</th>\n",
       "      <td>100.000000</td>\n",
       "      <td>0.000000</td>\n",
       "    </tr>\n",
       "    <tr>\n",
       "      <th>2011_february</th>\n",
       "      <td>100.000000</td>\n",
       "      <td>0.000000</td>\n",
       "    </tr>\n",
       "  </tbody>\n",
       "</table>\n",
       "<p>153 rows × 2 columns</p>\n",
       "</div>"
      ],
      "text/plain": [
       "Platform-User-Click           0         1\n",
       "release_date                             \n",
       "2019_august           93.233372  6.766628\n",
       "2020_august           93.631948  6.368052\n",
       "2020_march            94.465264  5.534736\n",
       "2020_october          95.000000  5.000000\n",
       "2011_may              96.428571  3.571429\n",
       "...                         ...       ...\n",
       "2010_november        100.000000  0.000000\n",
       "2010_october         100.000000  0.000000\n",
       "2012_july            100.000000  0.000000\n",
       "2012_january         100.000000  0.000000\n",
       "2011_february        100.000000  0.000000\n",
       "\n",
       "[153 rows x 2 columns]"
      ]
     },
     "execution_count": 39,
     "metadata": {},
     "output_type": "execute_result"
    }
   ],
   "source": [
    "pd.crosstab(data['release_date'], data['Platform-User-Click'], normalize='index').sort_values(by=[1], ascending=False)*100"
   ]
  },
  {
   "cell_type": "markdown",
   "metadata": {},
   "source": [
    "Removing columns where majority of the values are null\n",
    "\n",
    "1) X-Ucbrowser-Ua\n",
    "\n",
    "2) X-Wap-Profile\n",
    "\n",
    "3) Dpr\n",
    "\n",
    "4) Viewport-Width\n",
    "\n",
    "5) Device-Stock-Ua\n",
    "\n",
    "6) X-Operamini-Features\n",
    "\n",
    "7) X-Operamini-Phone\n",
    "\n",
    "8) X-Operamini-Phone-Ua"
   ]
  },
  {
   "cell_type": "code",
   "execution_count": 40,
   "metadata": {},
   "outputs": [
    {
     "name": "stdout",
     "output_type": "stream",
     "text": [
      "<class 'pandas.core.frame.DataFrame'>\n",
      "Int64Index: 999962 entries, 0 to 999961\n",
      "Data columns (total 28 columns):\n",
      " #   Column                        Non-Null Count   Dtype  \n",
      "---  ------                        --------------   -----  \n",
      " 0   Accept                        991059 non-null  object \n",
      " 1   Accept-Encoding               984824 non-null  object \n",
      " 2   User-Agent                    999960 non-null  object \n",
      " 3   Platform-User-Click           999962 non-null  int64  \n",
      " 4   X-Ucbrowser-Ua                13381 non-null   object \n",
      " 5   X-Wap-Profile                 2056 non-null    object \n",
      " 6   Dpr                           6166 non-null    float64\n",
      " 7   Viewport-Width                6166 non-null    float64\n",
      " 8   Device-Stock-Ua               12264 non-null   object \n",
      " 9   X-Operamini-Features          12279 non-null   object \n",
      " 10  X-Operamini-Phone             12279 non-null   object \n",
      " 11  X-Operamini-Phone-Ua          12279 non-null   object \n",
      " 12  brand_name                    999962 non-null  object \n",
      " 13  model_name                    999962 non-null  object \n",
      " 14  release_date                  999962 non-null  object \n",
      " 15  release_msrp                  999962 non-null  int32  \n",
      " 16  is_smarttv                    999962 non-null  object \n",
      " 17  is_tablet                     999962 non-null  object \n",
      " 18  is_mobile                     999962 non-null  object \n",
      " 19  is_smartphone                 999962 non-null  object \n",
      " 20  complete_device_name          999962 non-null  object \n",
      " 21  advertised_device_os          999962 non-null  object \n",
      " 22  advertised_device_os_version  999962 non-null  object \n",
      " 23  form_factor                   999962 non-null  object \n",
      " 24  is_full_desktop               999962 non-null  object \n",
      " 25  OS_and_Ver                    999962 non-null  object \n",
      " 26  year                          999962 non-null  object \n",
      " 27  month                         999962 non-null  object \n",
      "dtypes: float64(2), int32(1), int64(1), object(24)\n",
      "memory usage: 257.4+ MB\n"
     ]
    }
   ],
   "source": [
    "data.info()"
   ]
  },
  {
   "cell_type": "markdown",
   "metadata": {},
   "source": [
    "At 261 Mb of memory, our dataset is pretty large. We are at the point where we can drop a lot of columns though. While that information was relevant for initial analysis and to activate device detection, we can now drop it."
   ]
  },
  {
   "cell_type": "code",
   "execution_count": 41,
   "metadata": {},
   "outputs": [],
   "source": [
    "import csv\n",
    "\n",
    "data.to_csv(\"data_plus_wurflcapas_in_tsv_format.tsv.gz\", sep=\"\\t\", quoting=csv.QUOTE_NONE, compression='gzip')"
   ]
  },
  {
   "cell_type": "code",
   "execution_count": 42,
   "metadata": {},
   "outputs": [],
   "source": [
    "data = data.drop(['X-Ucbrowser-Ua', 'X-Wap-Profile','Dpr','Viewport-Width','Device-Stock-Ua','X-Operamini-Features',\n",
    "         'X-Operamini-Phone','X-Operamini-Phone-Ua'], axis=1)"
   ]
  },
  {
   "cell_type": "markdown",
   "metadata": {},
   "source": [
    "Also removing columns like \n",
    "1) Accept\n",
    "2) Accept-Encoding\n",
    "\n",
    "As it contains values where there is no variation in values"
   ]
  },
  {
   "cell_type": "code",
   "execution_count": 43,
   "metadata": {},
   "outputs": [],
   "source": [
    "data = data.drop(['Accept','Accept-Encoding'], axis=1)"
   ]
  },
  {
   "cell_type": "markdown",
   "metadata": {},
   "source": [
    "`User-Agent` strings can also be removed as WURFL has already enriched the data."
   ]
  },
  {
   "cell_type": "code",
   "execution_count": 44,
   "metadata": {},
   "outputs": [],
   "source": [
    "data = data.drop(['User-Agent'], axis=1)"
   ]
  },
  {
   "cell_type": "markdown",
   "metadata": {},
   "source": [
    "Let's save this as a TSV file. This file will be the input to the next notebook, the one where we start doing Machine learning."
   ]
  },
  {
   "cell_type": "code",
   "execution_count": 45,
   "metadata": {},
   "outputs": [
    {
     "name": "stdout",
     "output_type": "stream",
     "text": [
      "<class 'pandas.core.frame.DataFrame'>\n",
      "Int64Index: 999962 entries, 0 to 999961\n",
      "Data columns (total 17 columns):\n",
      " #   Column                        Non-Null Count   Dtype \n",
      "---  ------                        --------------   ----- \n",
      " 0   Platform-User-Click           999962 non-null  int64 \n",
      " 1   brand_name                    999962 non-null  object\n",
      " 2   model_name                    999962 non-null  object\n",
      " 3   release_date                  999962 non-null  object\n",
      " 4   release_msrp                  999962 non-null  int32 \n",
      " 5   is_smarttv                    999962 non-null  object\n",
      " 6   is_tablet                     999962 non-null  object\n",
      " 7   is_mobile                     999962 non-null  object\n",
      " 8   is_smartphone                 999962 non-null  object\n",
      " 9   complete_device_name          999962 non-null  object\n",
      " 10  advertised_device_os          999962 non-null  object\n",
      " 11  advertised_device_os_version  999962 non-null  object\n",
      " 12  form_factor                   999962 non-null  object\n",
      " 13  is_full_desktop               999962 non-null  object\n",
      " 14  OS_and_Ver                    999962 non-null  object\n",
      " 15  year                          999962 non-null  object\n",
      " 16  month                         999962 non-null  object\n",
      "dtypes: int32(1), int64(1), object(15)\n",
      "memory usage: 173.5+ MB\n"
     ]
    }
   ],
   "source": [
    "data.info()"
   ]
  },
  {
   "cell_type": "markdown",
   "metadata": {},
   "source": [
    "Let's save our data to make it easily available in the next notebook."
   ]
  },
  {
   "cell_type": "code",
   "execution_count": 46,
   "metadata": {},
   "outputs": [],
   "source": [
    "import csv\n",
    "\n",
    "data.to_csv(\"data_only_wurflcapas_in_tsv_format.tsv.gz\", sep=\"\\t\", quoting=csv.QUOTE_NONE, compression='gzip')"
   ]
  },
  {
   "cell_type": "code",
   "execution_count": null,
   "metadata": {},
   "outputs": [],
   "source": []
  }
 ],
 "metadata": {
  "kernelspec": {
   "display_name": "Python 3",
   "language": "python",
   "name": "python3"
  },
  "language_info": {
   "codemirror_mode": {
    "name": "ipython",
    "version": 3
   },
   "file_extension": ".py",
   "mimetype": "text/x-python",
   "name": "python",
   "nbconvert_exporter": "python",
   "pygments_lexer": "ipython3",
   "version": "3.8.3"
  }
 },
 "nbformat": 4,
 "nbformat_minor": 1
}
